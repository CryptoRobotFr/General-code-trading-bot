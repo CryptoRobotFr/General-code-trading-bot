{
 "cells": [
  {
   "cell_type": "code",
   "execution_count": null,
   "metadata": {},
   "outputs": [],
   "source": [
    "import ccxt\n",
    "\n",
    "dex = ccxt.hyperliquid({\n",
    "    \"walletAddress\": \"\",\n",
    "    \"privateKey\": \"\",\n",
    "})"
   ]
  },
  {
   "cell_type": "code",
   "execution_count": null,
   "metadata": {},
   "outputs": [],
   "source": [
    "dex.fetch_balance()"
   ]
  },
  {
   "cell_type": "code",
   "execution_count": null,
   "metadata": {},
   "outputs": [],
   "source": [
    "symbol = \"ETH/USDC:USDC\"\n",
    "market_type = \"market\"\n",
    "side = \"buy\"\n",
    "amount = 0.01\n",
    "price = dex.load_markets()[\"ETH/USDC:USDC\"][\"info\"][\"midPx\"]\n",
    "\n",
    "# dex.create_order(symbol, market_type, side, amount)\n",
    "dex.create_order(symbol, market_type, side, amount, price=price)"
   ]
  },
  {
   "cell_type": "code",
   "execution_count": null,
   "metadata": {},
   "outputs": [],
   "source": [
    "dex.load_markets()"
   ]
  },
  {
   "cell_type": "code",
   "execution_count": null,
   "metadata": {},
   "outputs": [],
   "source": [
    "symbols = [\"ETH/USDC:USDC\"]\n",
    "dex.fetch_positions(symbols)"
   ]
  },
  {
   "cell_type": "code",
   "execution_count": null,
   "metadata": {},
   "outputs": [],
   "source": [
    "symbol = \"ETH/USDC:USDC\"\n",
    "market_type = \"market\"\n",
    "side = \"sell\"\n",
    "amount = dex.fetch_positions([symbol])[0][\"contracts\"]\n",
    "price = dex.load_markets()[\"ETH/USDC:USDC\"][\"info\"][\"midPx\"]\n",
    "\n",
    "dex.create_order(symbol, market_type, side, amount, price=price, params={\"reduceOnly\":True})\n"
   ]
  },
  {
   "cell_type": "code",
   "execution_count": null,
   "metadata": {},
   "outputs": [],
   "source": [
    "symbol = \"ETH/USDC:USDC\"\n",
    "market_type = \"limit\"\n",
    "side = \"buy\"\n",
    "amount = 0.01\n",
    "price = 3300\n",
    "\n",
    "order = dex.create_order(symbol, market_type, side, amount, price=price)\n",
    "print(order)"
   ]
  },
  {
   "cell_type": "code",
   "execution_count": null,
   "metadata": {},
   "outputs": [],
   "source": [
    "symbol = \"ETH/USDC:USDC\"\n",
    "order_id = order[\"id\"]\n",
    "\n",
    "dex.cancel_order(order_id, symbol)"
   ]
  },
  {
   "cell_type": "code",
   "execution_count": null,
   "metadata": {},
   "outputs": [],
   "source": [
    "dex.fetch_open_orders(\"ETH/USDC:USDC\")"
   ]
  },
  {
   "cell_type": "code",
   "execution_count": null,
   "metadata": {},
   "outputs": [],
   "source": [
    "symbol = \"ETH/USDC:USDC\"\n",
    "margin_mode = \"isolated\" # cross\n",
    "leverage = 5\n",
    "\n",
    "dex.set_margin_mode(margin_mode, symbol, params={\"leverage\": leverage})\n"
   ]
  },
  {
   "cell_type": "code",
   "execution_count": null,
   "metadata": {},
   "outputs": [],
   "source": [
    "symbol = \"ETH/USDC:USDC\"\n",
    "leverage = 2\n",
    "dex.set_leverage(leverage, symbol)\n",
    "# dex.set_leverage(leverage, symbol, params={\"marginMode\": \"isolated\"})"
   ]
  },
  {
   "cell_type": "code",
   "execution_count": null,
   "metadata": {},
   "outputs": [],
   "source": [
    "symbol = \"ETH/USDC:USDC\"\n",
    "market_type = \"market\"\n",
    "side = \"buy\"\n",
    "amount = 0.01\n",
    "price = dex.load_markets()[\"ETH/USDC:USDC\"][\"info\"][\"midPx\"]\n",
    "\n",
    "dex.create_order(symbol, market_type, side, amount, price=price)"
   ]
  },
  {
   "cell_type": "code",
   "execution_count": null,
   "metadata": {},
   "outputs": [],
   "source": [
    "symbol = \"ETH/USDC:USDC\"\n",
    "market_type = \"market\"\n",
    "side = \"sell\"\n",
    "price = dex.load_markets()[\"ETH/USDC:USDC\"][\"info\"][\"midPx\"]\n",
    "\n",
    "# amount = dex.fetch_positions([symbol])[0][\"contracts\"]\n",
    "amount = 0.05\n",
    "tp_price = 4500\n",
    "\n",
    "dex.create_order(symbol, market_type, side, amount, price=price, params={\"takeProfitPrice\": tp_price, \"reduceOnly\": True})"
   ]
  },
  {
   "cell_type": "code",
   "execution_count": null,
   "metadata": {},
   "outputs": [],
   "source": [
    "symbol = \"ETH/USDC:USDC\"\n",
    "market_type = \"market\"\n",
    "side = \"sell\"\n",
    "price = dex.load_markets()[\"ETH/USDC:USDC\"][\"info\"][\"midPx\"]\n",
    "\n",
    "amount = dex.fetch_positions([symbol])[0][\"contracts\"]\n",
    "sl_price = 3500\n",
    "\n",
    "order = dex.create_order(symbol, market_type, side, amount, price=price, params={\"stopLossPrice\": sl_price, \"reduceOnly\": True})"
   ]
  },
  {
   "cell_type": "code",
   "execution_count": null,
   "metadata": {},
   "outputs": [],
   "source": [
    "dex.fetch_order(order[\"id\"], symbol)"
   ]
  },
  {
   "cell_type": "code",
   "execution_count": null,
   "metadata": {},
   "outputs": [],
   "source": [
    "symbol = \"ETH/USDC:USDC\"\n",
    "market_type = \"market\"\n",
    "side = \"buy\"\n",
    "price = dex.load_markets()[\"ETH/USDC:USDC\"][\"info\"][\"midPx\"]\n",
    "amount = 0.05\n",
    "stop_price = 4200\n",
    "\n",
    "dex.create_order(symbol, market_type, side, amount, price=price, params={\"stopPrice\": stop_price})"
   ]
  }
 ],
 "metadata": {
  "kernelspec": {
   "display_name": "Python 3",
   "language": "python",
   "name": "python3"
  },
  "language_info": {
   "codemirror_mode": {
    "name": "ipython",
    "version": 3
   },
   "file_extension": ".py",
   "mimetype": "text/x-python",
   "name": "python",
   "nbconvert_exporter": "python",
   "pygments_lexer": "ipython3",
   "version": "3.12.6"
  }
 },
 "nbformat": 4,
 "nbformat_minor": 2
}
