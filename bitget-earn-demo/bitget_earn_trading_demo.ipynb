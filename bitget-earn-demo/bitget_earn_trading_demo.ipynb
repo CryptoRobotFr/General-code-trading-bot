{
  "cells": [
    {
      "cell_type": "markdown",
      "metadata": {
        "vscode": {
          "languageId": "raw"
        }
      },
      "source": [
        "# Bitget Earn Trading Library Demo\n",
        "\n",
        "This notebook demonstrates how to use the `bitget_earn_trading` library to integrate Bitget's Earn (Flexible Savings) products with Spot and Futures trading.\n",
        "\n",
        "## Features\n",
        "\n",
        "- **Earn Integration**: Automatically manage flexible savings deposits and withdrawals\n",
        "- **Spot Trading**: Buy from savings and sell to savings seamlessly\n",
        "- **Futures Trading**: Enter and exit positions using savings funds\n",
        "- **Automatic Precision**: Handles price and quantity precision automatically\n",
        "- **Rate Limiting**: Built-in rate limiter (10 requests/second) to respect API limits\n",
        "- **Error Handling**: Comprehensive error handling for API calls\n",
        "\n",
        "## Table of Contents\n",
        "\n",
        "1. [Credentials Setup](#1-credentials-setup)\n",
        "2. [Earn Operations](#2-earn-operations)\n",
        "3. [Spot Trading](#3-spot-trading)\n",
        "4. [Futures Trading](#4-futures-trading)\n"
      ]
    },
    {
      "cell_type": "code",
      "execution_count": null,
      "metadata": {},
      "outputs": [],
      "source": [
        "import os\n",
        "import time\n",
        "from dotenv import load_dotenv\n",
        "\n",
        "# Force reload environment variables from .env fileter\n",
        "load_dotenv(override=True)"
      ]
    },
    {
      "cell_type": "markdown",
      "metadata": {
        "vscode": {
          "languageId": "raw"
        }
      },
      "source": [
        "## 1. Credentials Setup\n",
        "\n",
        "⚠️ **Important**: Keep your API keys private! Anyone with these keys can control your trading account and access your funds."
      ]
    },
    {
      "cell_type": "code",
      "execution_count": null,
      "metadata": {},
      "outputs": [],
      "source": [
        "PASSPHRASE = os.environ.get('BITGET_PASSPHRASE')\n",
        "API_KEY = os.getenv('BITGET_API_KEY')\n",
        "API_SECRET = os.getenv('BITGET_API_SECRET')"
      ]
    },
    {
      "cell_type": "markdown",
      "metadata": {
        "vscode": {
          "languageId": "raw"
        }
      },
      "source": [
        "## 2. Earn Operations"
      ]
    },
    {
      "cell_type": "code",
      "execution_count": null,
      "metadata": {},
      "outputs": [],
      "source": [
        "from bitget_earn_trading import BitgetEarn\n",
        "\n",
        "earn_client = BitgetEarn(API_KEY, API_SECRET, PASSPHRASE)"
      ]
    },
    {
      "cell_type": "markdown",
      "metadata": {},
      "source": [
        "### 2.1 Check Current Savings Balance"
      ]
    },
    {
      "cell_type": "code",
      "execution_count": null,
      "metadata": {},
      "outputs": [],
      "source": [
        "coin = \"USDT\"\n",
        "current_balance = earn_client.get_flexible_savings_amount(coin)\n",
        "\n",
        "print(f\"💰 Current {coin} in flexible savings: {current_balance}\")"
      ]
    },
    {
      "cell_type": "markdown",
      "metadata": {
        "vscode": {
          "languageId": "raw"
        }
      },
      "source": [
        "### 2.2 Subscribe to Savings (Deposit)"
      ]
    },
    {
      "cell_type": "code",
      "execution_count": null,
      "metadata": {},
      "outputs": [],
      "source": [
        "coin = \"USDT\"\n",
        "deposit_amount = 20\n",
        "\n",
        "try:\n",
        "    print(f\"📥 Depositing {deposit_amount} {coin} to flexible savings...\")\n",
        "    \n",
        "    earn_client.subscribe_savings(coin, deposit_amount)\n",
        "    \n",
        "    print(f\"✅ Deposit successful!\")\n",
        "    \n",
        "    time.sleep(2)\n",
        "    current_balance = earn_client.get_flexible_savings_amount(coin)\n",
        "\n",
        "    print(f\"💰 Current {coin} in flexible savings: {current_balance}\")\n",
        "    \n",
        "except Exception as e:\n",
        "    print(f\"❌ Deposit failed: {e}\")\n"
      ]
    },
    {
      "cell_type": "markdown",
      "metadata": {
        "vscode": {
          "languageId": "raw"
        }
      },
      "source": [
        "### 2.3 Redeem from Savings (Withdraw)"
      ]
    },
    {
      "cell_type": "code",
      "execution_count": null,
      "metadata": {},
      "outputs": [],
      "source": [
        "coin = \"USDT\"\n",
        "withdraw_amount = 10\n",
        "\n",
        "try:\n",
        "    print(f\"📤 Withdrawing {withdraw_amount} {coin} from flexible savings...\")\n",
        "    \n",
        "    earn_client.redeem_savings(coin, withdraw_amount) \n",
        "    \n",
        "    print(f\"✅ Withdrawal successful!\")\n",
        "\n",
        "    time.sleep(2)\n",
        "    updated_balance = earn_client.get_flexible_savings_amount(coin)\n",
        "\n",
        "    print(f\"💰 Updated {coin} in flexible savings: {updated_balance}\")\n",
        "\n",
        "except Exception as e:\n",
        "    print(f\"❌ Withdrawal failed: {e}\")"
      ]
    },
    {
      "cell_type": "markdown",
      "metadata": {
        "vscode": {
          "languageId": "raw"
        }
      },
      "source": [
        "## 3. Spot Trading\n",
        "\n",
        "The Spot Trading module integrates savings with spot trading operations, allowing you to buy directly from savings and sell directly to savings.\n"
      ]
    },
    {
      "cell_type": "code",
      "execution_count": null,
      "metadata": {},
      "outputs": [],
      "source": [
        "from bitget_earn_trading import BitgetEarnSpot\n",
        "\n",
        "spot_client = BitgetEarnSpot(API_KEY, API_SECRET, PASSPHRASE)"
      ]
    },
    {
      "cell_type": "markdown",
      "metadata": {
        "vscode": {
          "languageId": "raw"
        }
      },
      "source": [
        "### 3.1 Check Spot Account Balance\n"
      ]
    },
    {
      "cell_type": "code",
      "execution_count": null,
      "metadata": {},
      "outputs": [],
      "source": [
        "usdt_balance = spot_client.get_balance(\"USDT\")\n",
        "btc_balance = spot_client.get_balance(\"BTC\")\n",
        "savings_balance = spot_client.get_flexible_savings_amount(\"USDT\")\n",
        "\n",
        "print(f\"💰 Spot Account Balances:\")\n",
        "print(f\"   USDT: {usdt_balance.get('available', '0')} (available)\")\n",
        "print(f\"   BTC: {btc_balance.get('available', '0')} (available)\")\n",
        "\n",
        "print(f\"💳 Savings Balance:\")\n",
        "print(f\"   USDT in Savings: {savings_balance}\")\n"
      ]
    },
    {
      "cell_type": "markdown",
      "metadata": {
        "vscode": {
          "languageId": "raw"
        }
      },
      "source": [
        "### 3.2 Buy from Savings\n",
        "\n",
        "This operation:\n",
        "1. Redeems USDT from flexible savings\n",
        "2. Waits for the redemption to complete\n",
        "3. Places a buy order for the specified cryptocurrency\n"
      ]
    },
    {
      "cell_type": "code",
      "execution_count": null,
      "metadata": {},
      "outputs": [],
      "source": [
        "symbol = \"BTCUSDT\"\n",
        "quote_coin = \"USDT\"\n",
        "buy_amount = 10\n",
        "\n",
        "try:\n",
        "    print(f\"🛒 Buying {buy_amount} {quote_coin} worth of {symbol} from savings...\")\n",
        "    \n",
        "    result = spot_client.buy_from_savings(\n",
        "        symbol=symbol,\n",
        "        quote_coin=quote_coin,\n",
        "        amount=buy_amount,\n",
        "        order_type=\"market\" \n",
        "    )\n",
        "    \n",
        "    print(f\"✅ Buy order completed!\")\n",
        "    print(f\"📄 Redemption Order ID: {result['redeem_order_id']}\")\n",
        "    print(f\"📄 Buy Order ID: {result['buy_order_id']}\")\n",
        "    \n",
        "except Exception as e:\n",
        "    print(f\"❌ Buy from savings failed: {e}\")\n"
      ]
    },
    {
      "cell_type": "markdown",
      "metadata": {
        "vscode": {
          "languageId": "raw"
        }
      },
      "source": [
        "### 3.3 Sell to Savings\n",
        "\n",
        "This operation:\n",
        "1. Places a sell order for the specified cryptocurrency\n",
        "2. Waits for the order to complete\n",
        "3. Automatically deposits the proceeds to flexible savings\n"
      ]
    },
    {
      "cell_type": "code",
      "execution_count": null,
      "metadata": {},
      "outputs": [],
      "source": [
        "symbol = \"BTCUSDT\"\n",
        "quote_coin = \"USDT\"\n",
        "sell_amount = 0.000092542\n",
        "\n",
        "try:\n",
        "    print(f\"💰 Selling {sell_amount} {symbol} and depositing to savings...\")\n",
        "    \n",
        "    result = spot_client.sell_to_savings(\n",
        "        symbol=symbol,\n",
        "        amount_base=sell_amount,\n",
        "        quote_coin=quote_coin,\n",
        "        order_type=\"market\"\n",
        "    )\n",
        "    \n",
        "    print(f\"✅ Sell to savings completed!\")\n",
        "    print(f\"📄 Sell Order ID: {result['sell_order_id']}\")\n",
        "    \n",
        "    if result['deposit_order_id']:\n",
        "        print(f\"📄 Savings Deposit Order ID: {result['deposit_order_id']}\")\n",
        "    else:\n",
        "        print(\"⚠️ No proceeds deposited to savings (order may not have filled)\")\n",
        "        \n",
        "except Exception as e:\n",
        "    print(f\"❌ Sell to savings failed: {e}\")\n"
      ]
    },
    {
      "cell_type": "markdown",
      "metadata": {
        "vscode": {
          "languageId": "raw"
        }
      },
      "source": [
        "### 3.4 Advanced: Limit Orders\n",
        "\n",
        "You can also place limit orders instead of market orders for better price control.\n"
      ]
    },
    {
      "cell_type": "code",
      "execution_count": null,
      "metadata": {},
      "outputs": [],
      "source": [
        "symbol = \"BTCUSDT\"\n",
        "quote_coin = \"USDT\"\n",
        "buy_amount = 10\n",
        "limit_price = 90000\n",
        "\n",
        "try:\n",
        "    print(f\"🎯 Placing limit buy order for {symbol} at ${limit_price}...\")\n",
        "    \n",
        "    result = spot_client.buy_from_savings(\n",
        "        symbol=symbol,\n",
        "        quote_coin=quote_coin,\n",
        "        amount=buy_amount,\n",
        "        order_type=\"limit\",\n",
        "        price=limit_price,\n",
        "    )\n",
        "    \n",
        "    print(f\"✅ Limit buy order placed!\")\n",
        "    print(f\"📄 Order ID: {result['buy_order_id']}\")\n",
        "    \n",
        "except Exception as e:\n",
        "    print(f\"❌ Limit buy order failed: {e}\")\n"
      ]
    },
    {
      "cell_type": "code",
      "execution_count": null,
      "metadata": {},
      "outputs": [],
      "source": [
        "symbol = \"BTCUSDT\"\n",
        "quote_coin = \"USDT\"\n",
        "buy_amount = 10\n",
        "limit_price = 90000\n",
        "\n",
        "try:\n",
        "    print(f\"🎯 Placing limit buy order for {symbol} at ${limit_price}...\")\n",
        "    \n",
        "    result = spot_client.buy_from_savings(\n",
        "        symbol=symbol,\n",
        "        quote_coin=quote_coin,\n",
        "        amount=buy_amount,\n",
        "        order_type=\"limit\",\n",
        "        price=limit_price,\n",
        "    )\n",
        "    \n",
        "    print(f\"✅ Limit buy order placed!\")\n",
        "    print(f\"📄 Order ID: {result['buy_order_id']}\")\n",
        "    \n",
        "except Exception as e:\n",
        "    print(f\"❌ Limit buy order failed: {e}\")\n"
      ]
    },
    {
      "cell_type": "markdown",
      "metadata": {
        "vscode": {
          "languageId": "raw"
        }
      },
      "source": [
        "## 4. Futures Trading\n",
        "\n",
        "The Futures Trading module allows you to enter and exit positions using funds from your flexible savings account.\n"
      ]
    },
    {
      "cell_type": "code",
      "execution_count": null,
      "metadata": {},
      "outputs": [],
      "source": [
        "from bitget_earn_trading import BitgetEarnFutures\n",
        "\n",
        "futures_client = BitgetEarnFutures(API_KEY, API_SECRET, PASSPHRASE)"
      ]
    },
    {
      "cell_type": "markdown",
      "metadata": {
        "vscode": {
          "languageId": "raw"
        }
      },
      "source": [
        "### 4.1 Check Futures Account Balance"
      ]
    },
    {
      "cell_type": "code",
      "execution_count": null,
      "metadata": {},
      "outputs": [],
      "source": [
        "futures_balance = futures_client.get_balance(\"USDT\")\n",
        "savings_balance = futures_client.get_flexible_savings_amount(\"USDT\")\n",
        "\n",
        "print(f\"💰 Futures Account Balance:\")\n",
        "print(f\"   USDT Available: {futures_balance.get('available', '0')}\")\n",
        "print(f\"   USDT Locked: {futures_balance.get('locked', '0')}\")\n",
        "print(f\"   USDT Equity: {futures_balance.get('equity', '0')}\")\n",
        "\n",
        "print(f\"💳 Savings Balance:\")\n",
        "print(f\"   USDT in Savings: {savings_balance}\")"
      ]
    },
    {
      "cell_type": "markdown",
      "metadata": {
        "vscode": {
          "languageId": "raw"
        }
      },
      "source": [
        "### 4.2 Enter Long Position from Savings\n",
        "\n",
        "This operation:\n",
        "1. Redeems USDT from flexible savings\n",
        "2. Transfers the funds from spot to futures account\n",
        "3. Opens a long position with the specified parameters\n"
      ]
    },
    {
      "cell_type": "code",
      "execution_count": null,
      "metadata": {},
      "outputs": [],
      "source": [
        "symbol = \"ADAUSDT\"\n",
        "margin_coin = \"USDT\"\n",
        "position_size = 10\n",
        "side = \"long\"\n",
        "\n",
        "try:\n",
        "    print(f\"📈 Opening {side} position for {symbol} using {position_size} {margin_coin} from savings...\")\n",
        "    \n",
        "    result = futures_client.enter_position_from_savings(\n",
        "        symbol=symbol,\n",
        "        margin_coin=margin_coin,\n",
        "        amount=position_size,\n",
        "        side=side,\n",
        "        order_type=\"market\",\n",
        "        margin_mode=\"isolated\" \n",
        "    )\n",
        "    \n",
        "    print(f\"✅ Long position opened successfully!\")\n",
        "    print(f\"📄 Redemption Order ID: {result['redeem_order_id']}\")\n",
        "    print(f\"📄 Position Order ID: {result['position_order_id']}\")\n",
        "    \n",
        "except Exception as e:\n",
        "    print(f\"❌ Failed to open long position: {e}\")\n"
      ]
    },
    {
      "cell_type": "markdown",
      "metadata": {
        "vscode": {
          "languageId": "raw"
        }
      },
      "source": [
        "### 4.3 Enter Short Position from Savings\n",
        "\n",
        "Similar to long positions, but opens a short position instead.\n"
      ]
    },
    {
      "cell_type": "code",
      "execution_count": null,
      "metadata": {},
      "outputs": [],
      "source": [
        "symbol = \"ADAUSDT\"\n",
        "margin_coin = \"USDT\"\n",
        "position_size = 10  # in quote currency\n",
        "side = \"short\"\n",
        "\n",
        "try:\n",
        "    print(f\"📉 Opening {side} position for {symbol} using {position_size} {margin_coin} from savings...\")\n",
        "    \n",
        "    result = futures_client.enter_position_from_savings(\n",
        "        symbol=symbol,\n",
        "        margin_coin=margin_coin,\n",
        "        amount=position_size,\n",
        "        side=side,\n",
        "        order_type=\"market\",\n",
        "        margin_mode=\"crossed\"\n",
        "    )\n",
        "    \n",
        "    print(f\"✅ Short position opened successfully!\")\n",
        "    print(f\"📄 Redemption Order ID: {result['redeem_order_id']}\")\n",
        "    print(f\"📄 Position Order ID: {result['position_order_id']}\")\n",
        "    \n",
        "except Exception as e:\n",
        "    print(f\"❌ Failed to open short position: {e}\")\n"
      ]
    },
    {
      "cell_type": "markdown",
      "metadata": {
        "vscode": {
          "languageId": "raw"
        }
      },
      "source": [
        "### 4.4 Exit Position to Savings\n",
        "\n",
        "This operation:\n",
        "1. Closes the specified position\n",
        "2. Transfers the remaining funds from futures to spot account\n",
        "3. Deposits the proceeds to flexible savings\n"
      ]
    },
    {
      "cell_type": "code",
      "execution_count": null,
      "metadata": {},
      "outputs": [],
      "source": [
        "symbol = \"ADAUSDT\"\n",
        "position_size = 34  # in base currency\n",
        "side = \"long\"  \n",
        "margin_coin = \"USDT\"\n",
        "\n",
        "try:\n",
        "    print(f\"🔄 Closing {side} position for {symbol} and depositing to savings...\")\n",
        "    \n",
        "    result = futures_client.exit_position_to_savings(\n",
        "        symbol=symbol,\n",
        "        size=position_size,\n",
        "        side=side,\n",
        "        margin_coin=margin_coin,\n",
        "        order_type=\"market\"\n",
        "    )\n",
        "    \n",
        "    print(f\"✅ Position closed and funds deposited to savings!\")\n",
        "    print(f\"📄 Close Order ID: {result['close_order_id']}\")\n",
        "    \n",
        "    if result['deposit_order_id']:\n",
        "        print(f\"📄 Savings Deposit Order ID: {result['deposit_order_id']}\")\n",
        "    else:\n",
        "        print(\"⚠️ No funds deposited to savings (no available balance)\")\n",
        "        \n",
        "except Exception as e:\n",
        "    print(f\"❌ Failed to close position: {e}\")"
      ]
    },
    {
      "cell_type": "markdown",
      "metadata": {
        "vscode": {
          "languageId": "raw"
        }
      },
      "source": [
        "### 4.5 Advanced: Limit Orders for Futures\n",
        "\n",
        "You can also use limit orders for more precise entry and exit points.\n"
      ]
    },
    {
      "cell_type": "code",
      "execution_count": null,
      "metadata": {},
      "outputs": [],
      "source": [
        "symbol = \"ADAUSDT\"\n",
        "margin_coin = \"USDT\"\n",
        "position_size = 10 \n",
        "side = \"long\"\n",
        "limit_price = 0.4\n",
        "\n",
        "try:\n",
        "    print(f\"🎯 Placing limit long order for {symbol} at ${limit_price}...\")\n",
        "    \n",
        "    result = futures_client.enter_position_from_savings(\n",
        "        symbol=symbol,\n",
        "        margin_coin=margin_coin,\n",
        "        amount=position_size,\n",
        "        side=side,\n",
        "        order_type=\"limit\",\n",
        "        price=limit_price,\n",
        "        force=\"gtc\"\n",
        "    )\n",
        "    \n",
        "    print(f\"✅ Limit long order placed!\")\n",
        "    print(f\"📄 Position Order ID: {result['position_order_id']}\")\n",
        "    \n",
        "except Exception as e:\n",
        "    print(f\"❌ Failed to place limit long order: {e}\")\n"
      ]
    }
  ],
  "metadata": {
    "kernelspec": {
      "display_name": "Python 3",
      "language": "python",
      "name": "python3"
    },
    "language_info": {
      "codemirror_mode": {
        "name": "ipython",
        "version": 3
      },
      "file_extension": ".py",
      "mimetype": "text/x-python",
      "name": "python",
      "nbconvert_exporter": "python",
      "pygments_lexer": "ipython3",
      "version": "3.12.6"
    }
  },
  "nbformat": 4,
  "nbformat_minor": 2
}
